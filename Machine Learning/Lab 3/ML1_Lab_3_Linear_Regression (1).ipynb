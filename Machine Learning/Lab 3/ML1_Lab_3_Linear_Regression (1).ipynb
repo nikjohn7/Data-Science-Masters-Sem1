{
  "nbformat": 4,
  "nbformat_minor": 0,
  "metadata": {
    "hide_input": false,
    "kernelspec": {
      "display_name": "Python 3",
      "language": "python",
      "name": "python3"
    },
    "language_info": {
      "codemirror_mode": {
        "name": "ipython",
        "version": 3
      },
      "file_extension": ".py",
      "mimetype": "text/x-python",
      "name": "python",
      "nbconvert_exporter": "python",
      "pygments_lexer": "ipython3",
      "version": "3.6.9"
    },
    "colab": {
      "name": "ML1 Lab 3 - Linear Regression.ipynb",
      "provenance": []
    }
  },
  "cells": [
    {
      "cell_type": "markdown",
      "metadata": {
        "id": "KhcdmI222s6q"
      },
      "source": [
        "# Lab 3: Linear Regression\n",
        "\n",
        "This exercise takes you through the fundamental linear regression model from a number of different angles. First we consider an analytic analysis and then we continue to consider how to solve the same problem using numerical methods. This lab also serves and an introduction to the tensorflow toolkit which will be useful for a variety of machine learning tasks in the future and is used by Google to solve massive machine learning problems on their clusters.\n",
        "\n",
        "The linear regression model forms the basis for a whole host of models - if you are comfortable with the fundamental approaches we take here, there will be a whole range of extensions, advances and applications available to you in the future."
      ]
    },
    {
      "cell_type": "markdown",
      "metadata": {
        "id": "6HGkvSFr2s6r"
      },
      "source": [
        "## Marking and Submission\n",
        "\n",
        "This lab exercise is marked, and contributes 10% to your final grade. For this lab exercise there are 6 places where you are expected to enter your own code, for 15 marks overall. Every place you have to add code is indicated by\n",
        "\n",
        "`# Add your code here ..`\n",
        "\n",
        "`# ***********************************************************`\n",
        "\n",
        "with instructions above the code block.\n",
        "\n",
        "Please submit your completed workbook on 2021-11-19 20:00 GMT. The workbook you submit must be an `.ipynb` file, which is saved into the directory you're running Jupyter; alternatively you can download it from the menu above using `File -> Download As -> Notebook (.ipynb)`. Remember to save your work regularly (Save and checkpoint in the File menu, the icon of a floppy disk, or Ctrl-S); the version you submit should have all code blocks showing the results (if any) of execution below them. You will normally receive feedback within a week.\n",
        "\n",
        "## IMPORTANT!\n",
        "\n",
        "- Please make sure your notebook runs all the way through without errors with the cells executed in the correct order before saving and submitting. This can be performed by selecting 'Restart & Run All' from the 'Kernel' menu at the top.\n",
        "- All answers should be provide within functions with specific names and arguments.\n",
        "- **Please do not change the names or signatures of the functions that you write your answers inside!** This will break the script we use for marking.\n",
        "- **Please do not move cells around or copy and paste the notebook into another notebook!** Again, this will break the marking script."
      ]
    },
    {
      "cell_type": "code",
      "metadata": {
        "id": "YbrI-GY82s6s"
      },
      "source": [
        "%matplotlib inline\n",
        "import numpy as np\n",
        "\n",
        "# A new one for this lab!\n",
        "import tensorflow.compat.v1 as tf\n",
        "\n",
        "from sklearn import datasets as ds\n",
        "\n",
        "import matplotlib.pyplot as plt"
      ],
      "execution_count": 15,
      "outputs": []
    },
    {
      "cell_type": "code",
      "metadata": {
        "id": "n7HQ_5XZ2s6t",
        "colab": {
          "base_uri": "https://localhost:8080/"
        },
        "outputId": "7e740eab-ea01-4e56-8e01-c18d8e8f4a04"
      },
      "source": [
        "boston = ds.load_boston()\n",
        "\n",
        "x_raw = boston.data[:,np.argwhere(boston.feature_names == 'RM')[0,0]]\n",
        "y_raw = boston.target"
      ],
      "execution_count": 16,
      "outputs": [
        {
          "output_type": "stream",
          "name": "stderr",
          "text": [
            "/usr/local/lib/python3.7/dist-packages/sklearn/utils/deprecation.py:87: FutureWarning: Function load_boston is deprecated; `load_boston` is deprecated in 1.0 and will be removed in 1.2.\n",
            "\n",
            "    The Boston housing prices dataset has an ethical problem. You can refer to\n",
            "    the documentation of this function for further details.\n",
            "\n",
            "    The scikit-learn maintainers therefore strongly discourage the use of this\n",
            "    dataset unless the purpose of the code is to study and educate about\n",
            "    ethical issues in data science and machine learning.\n",
            "\n",
            "    In this special case, you can fetch the dataset from the original\n",
            "    source::\n",
            "\n",
            "        import pandas as pd\n",
            "        import numpy as np\n",
            "\n",
            "\n",
            "        data_url = \"http://lib.stat.cmu.edu/datasets/boston\"\n",
            "        raw_df = pd.read_csv(data_url, sep=\"\\s+\", skiprows=22, header=None)\n",
            "        data = np.hstack([raw_df.values[::2, :], raw_df.values[1::2, :2]])\n",
            "        target = raw_df.values[1::2, 2]\n",
            "\n",
            "    Alternative datasets include the California housing dataset (i.e.\n",
            "    :func:`~sklearn.datasets.fetch_california_housing`) and the Ames housing\n",
            "    dataset. You can load the datasets as follows::\n",
            "\n",
            "        from sklearn.datasets import fetch_california_housing\n",
            "        housing = fetch_california_housing()\n",
            "\n",
            "    for the California housing dataset and::\n",
            "\n",
            "        from sklearn.datasets import fetch_openml\n",
            "        housing = fetch_openml(name=\"house_prices\", as_frame=True)\n",
            "\n",
            "    for the Ames housing dataset.\n",
            "    \n",
            "  warnings.warn(msg, category=FutureWarning)\n"
          ]
        }
      ]
    },
    {
      "cell_type": "markdown",
      "metadata": {
        "id": "WUOpb3xR2s6u"
      },
      "source": [
        "## Boston House Prices Dataset\n",
        "A descroption of the dataset used is provided here.\n",
        "\n",
        "Data Set Characteristics:  \n",
        "    :Number of Instances: 506 \n",
        "\n",
        "    :Number of Attributes: 13 numeric/categorical predictive\n",
        "    \n",
        "    :Median Value (attribute 14) is usually the target\n",
        "\n",
        "    :Attribute Information (in order):\n",
        "        - CRIM     per capita crime rate by town\n",
        "        - ZN       proportion of residential land zoned for lots over 25,000 sq.ft.\n",
        "        - INDUS    proportion of non-retail business acres per town\n",
        "        - CHAS     Charles River dummy variable (= 1 if tract bounds river; 0 otherwise)\n",
        "        - NOX      nitric oxides concentration (parts per 10 million)\n",
        "        - RM       average number of rooms per dwelling\n",
        "        - AGE      proportion of owner-occupied units built prior to 1940\n",
        "        - DIS      weighted distances to five Boston employment centres\n",
        "        - RAD      index of accessibility to radial highways\n",
        "        - TAX      full-value property-tax rate per $10,000\n",
        "        - PTRATIO  pupil-teacher ratio by town\n",
        "        - B        1000(Bk - 0.63)^2 where Bk is the proportion of blacks by town\n",
        "        - LSTAT    % lower status of the population\n",
        "        - MEDV     Median value of owner-occupied homes in $1000's\n",
        "\n",
        "    :Missing Attribute Values: None\n",
        "\n",
        "    :Creator: Harrison, D. and Rubinfeld, D.L.\n",
        "\n",
        "This is a copy of UCI ML housing dataset.\n",
        "http://archive.ics.uci.edu/ml/datasets/Housing\n",
        "\n",
        "\n",
        "This dataset was taken from the StatLib library which is maintained at Carnegie Mellon University.\n",
        "\n",
        "The Boston house-price data of Harrison, D. and Rubinfeld, D.L. 'Hedonic\n",
        "prices and the demand for clean air', J. Environ. Economics & Management,\n",
        "vol.5, 81-102, 1978.   Used in Belsley, Kuh & Welsch, 'Regression diagnostics\n",
        "...', Wiley, 1980.   N.B. Various transformations are used in the table on\n",
        "pages 244-261 of the latter.\n",
        "\n",
        "The Boston house-price data has been used in many machine learning papers that address regression\n",
        "problems.   \n",
        "     \n",
        "### References\n",
        "\n",
        "   - Belsley, Kuh & Welsch, 'Regression diagnostics: Identifying Influential Data and Sources of Collinearity', Wiley, 1980. 244-261.\n",
        "   - Quinlan,R. (1993). Combining Instance-Based and Model-Based Learning. In Proceedings on the Tenth International Conference of Machine Learning, 236-243, University of Massachusetts, Amherst. Morgan Kaufmann.\n",
        "   - many more! (see http://archive.ics.uci.edu/ml/datasets/Housing)"
      ]
    },
    {
      "cell_type": "markdown",
      "metadata": {
        "id": "hJQhj1It2s6u"
      },
      "source": [
        "## Preparing the data\n",
        "\n",
        "We are going to look at the relationship between the \"average number of rooms per dwelling\" and median house price in the Boston dataset. First let us partition the data into a training and test split. We are going for 60% training and 40% testing."
      ]
    },
    {
      "cell_type": "code",
      "metadata": {
        "id": "NBodm2o52s6v",
        "colab": {
          "base_uri": "https://localhost:8080/"
        },
        "outputId": "fb1bb869-19ad-4df5-9433-5cd1f3214836"
      },
      "source": [
        "total_count = x_raw.shape[0]\n",
        "\n",
        "split = int(total_count * 0.6)\n",
        "\n",
        "# Shuffle the data to avoid any ordering bias..\n",
        "np.random.seed(0)\n",
        "shuffle = np.random.permutation(total_count)\n",
        "\n",
        "x = x_raw[shuffle]\n",
        "y = y_raw[shuffle]\n",
        "\n",
        "x_train_unnormalised = x[:split]\n",
        "y_train_unnormalised = y[:split]\n",
        "\n",
        "x_test_unnormalised = x[split:]\n",
        "y_test_unnormalised = y[split:]\n",
        "\n",
        "print('Training set size:', x_train_unnormalised.shape[0])\n",
        "print('Test set size:', x_test_unnormalised.shape[0])"
      ],
      "execution_count": 17,
      "outputs": [
        {
          "output_type": "stream",
          "name": "stdout",
          "text": [
            "Training set size: 303\n",
            "Test set size: 203\n"
          ]
        }
      ]
    },
    {
      "cell_type": "markdown",
      "metadata": {
        "id": "LpZXAYv42s6v"
      },
      "source": [
        "## Data Visualisation\n",
        "\n",
        "To allow for easy visualisation as you progress through the task we are using a single dimensional data set. Both the input $x$ and output $y$ are scalars so we can plot them on a standard scatter plot."
      ]
    },
    {
      "cell_type": "code",
      "metadata": {
        "id": "J0LQNa-92s6v",
        "colab": {
          "base_uri": "https://localhost:8080/",
          "height": 530
        },
        "outputId": "d49a0ccf-9702-41fb-881a-0c3a10aadc46"
      },
      "source": [
        "# You can use this function to plot the data and then add your own plots on top..\n",
        "def plot_data(x, y):\n",
        "    plt.figure(figsize=[10,8])\n",
        "    plt.plot(x, y, 'b+')\n",
        "    plt.grid(True)\n",
        "    plt.xlabel('Average number rooms per dwelling')\n",
        "    plt.ylabel('Mean value of home')\n",
        "\n",
        "plot_data(x_train_unnormalised, y_train_unnormalised)\n",
        "plt.title('Plot of the Training Data')"
      ],
      "execution_count": 18,
      "outputs": [
        {
          "output_type": "execute_result",
          "data": {
            "text/plain": [
              "Text(0.5, 1.0, 'Plot of the Training Data')"
            ]
          },
          "metadata": {},
          "execution_count": 18
        },
        {
          "output_type": "display_data",
          "data": {
            "image/png": "[encoded data removed]",
            "text/plain": [
              "<Figure size 720x576 with 1 Axes>"
            ]
          },
          "metadata": {
            "needs_background": "light"
          }
        }
      ]
    },
    {
      "cell_type": "markdown",
      "metadata": {
        "id": "mjr72gg-2s6w"
      },
      "source": [
        "### Question 1 (2 marks):\n",
        "\n",
        "Write a function that normalises a vector of values. It should output a corresponding vector where the values have a mean of zero and a standard deviation of 1. Note that you should only perform an affine transformation of the data (i.e. a linear scaling and a fixed offset). This means that you must find $a$ and $b$ for $u_i = a \\, v_i + b$ where $\\{u_i\\}$ are the input data and $\\{v_i\\}$ are the normalised output data.\n",
        "\n",
        "Your function should return the normalising constants as well as the normalised data.\n",
        "\n",
        "Write a second function that removes the normalisation and returns the data to its original values.\n",
        "\n",
        "Check that passing both `x_train` and `y_train` through both functions returns the vectors to their original values.\n",
        "\n",
        "*Hints:*\n",
        "- You might want to look at `np.all()` for the Boolean check that they return to their values.\n",
        "- When checking that floating point values are equal up to nummerical precision (e.g. rounding errors in the computations) you can use the `np.isclose()` function.\n",
        "- You can use the `assert()` command to guarantee that a statement is `True` before the program continues.\n",
        "\n",
        "*Points to consider:* \n",
        "- Why might it be sensible to normalise the data in the fashion described?\n",
        "- Considering that we are about to perform Linear Regression, why might we not want to perform a more involved normalisation process?"
      ]
    },
    {
      "cell_type": "code",
      "metadata": {
        "id": "5pG_MCBp2s6w",
        "colab": {
          "base_uri": "https://localhost:8080/",
          "height": 530
        },
        "outputId": "b12fbb53-31e3-4aa9-95f5-956762508806"
      },
      "source": [
        "def normalise_data(x_unnormalised):\n",
        "    # Add your code here..\n",
        "    # ************************************************************\n",
        "    b_mean = np.mean(x_unnormalised)\n",
        "    a_std = np.std(x_unnormalised)\n",
        "    x_normalised = (x_unnormalised-b_mean)/a_std\n",
        "    \n",
        "    return x_normalised, a_std, b_mean\n",
        "\n",
        "def unnormalise_data(x_normalised, a, b):\n",
        "    # Add your code here..\n",
        "    # ************************************************************\n",
        "    x_unnormalised = x_normalised * a + b\n",
        "    \n",
        "    return x_unnormalised\n",
        "\n",
        "try:\n",
        "    x_train, x_norm_a, x_norm_b = normalise_data(x_train_unnormalised)\n",
        "    y_train, y_norm_a, y_norm_b = normalise_data(y_train_unnormalised)\n",
        "\n",
        "    x_test, _, _ = normalise_data(x_test_unnormalised)\n",
        "    y_test, _, _ = normalise_data(y_test_unnormalised)\n",
        "except Exception as err:\n",
        "    print('Error during normalisation functions:', err)\n",
        "\n",
        "def checking_function(normalise_data, unnormalise_data, data_to_check):\n",
        "    passes_check = False\n",
        "    \n",
        "    est_normalised_data, est_a, est_b = normalise_data(data_to_check)\n",
        "    est_unnormalised_data = unnormalise_data(est_normalised_data, est_a, est_b)\n",
        "    \n",
        "    # Add your code here to check that the unnormaliseding the \n",
        "    # training data returns to their original values and update \n",
        "    # the passes_check boolean..\n",
        "    # ************************************************************\n",
        "\n",
        "    \n",
        "    return passes_check\n",
        "\n",
        "try:\n",
        "    if (checking_function(normalise_data, unnormalise_data, x_train_unnormalised) == True) and \\\n",
        "       (checking_function(normalise_data, unnormalise_data, y_train_unnormalised) == True):\n",
        "        print('Passes checking function :)')\n",
        "    else:\n",
        "        print('Failed to pass the checking function :(')\n",
        "except Exception as err:\n",
        "    print('Error during checking function:', err)\n",
        "\n",
        "# Plot the data to make sure they are normalised..\n",
        "try:\n",
        "    plot_data(x_train, y_train)\n",
        "    plt.title('Plot of the (Normalised) Training Data')\n",
        "except Exception as err:\n",
        "    print('Error during ploting functions:', err)"
      ],
      "execution_count": 19,
      "outputs": [
        {
          "output_type": "stream",
          "name": "stdout",
          "text": [
            "Failed to pass the checking function :(\n"
          ]
        },
        {
          "output_type": "display_data",
          "data": {
            "image/png": "[encoded data removed]",
            "text/plain": [
              "<Figure size 720x576 with 1 Axes>"
            ]
          },
          "metadata": {
            "needs_background": "light"
          }
        }
      ]
    },
    {
      "cell_type": "markdown",
      "metadata": {
        "id": "1RTjOKVa2s6w"
      },
      "source": [
        "## The Linear Regression Model\n",
        "\n",
        "In linear regression we are trying to fit a linear model to the data of the form\n",
        "\n",
        "\\begin{align}\n",
        "y &= w x + c\n",
        "\\end{align}\n",
        "\n",
        "where $w$ and $c$ are parameters to be learned that take the input data $x$ to the output data $y$. Once this model has been learned, we can use the parameters to predict the values of the output that would correspond to new values of the input.\n",
        "\n",
        "In order to determine the parameters, we need an objective function that we seek to optimise: this function returns a scalar value for all possible parameter values and we seek to change the parameters until the best scalar value is obtained.\n",
        "\n",
        "For linear regression, we usually take the objective as one which minimises the squared error; this is known as a linear least squares problem.\n",
        "\n",
        "*Aside: Think about what this means in terms of a model for the data when you have $y = f(x) + \\eta$ with $f(x)$ as a linear function $f(x) = w x + c$ and $\\eta$ as iid Gaussian noise.*\n",
        "\n",
        "Therefore our objective is given by the sum of squared differences between the true value of $y_i$ and the value estimated by our model $w x_i + c$.\n",
        "\n",
        "\\begin{align}\n",
        "E(w,c) &= \\sum_{i=0}^{N-1} \\big(y_i - f(x_i) \\big)^2 \\\\\n",
        "    &= \\sum_{i=0}^{N-1} \\big(y_i - (w x_i + c) \\big)^2 \\\\\n",
        "    &= \\sum_{i=0}^{N-1} \\big(y_i - w x_i - c \\big)^2\n",
        "\\end{align}\n",
        "\n"
      ]
    },
    {
      "cell_type": "markdown",
      "metadata": {
        "id": "mXhRteDv2s6x"
      },
      "source": [
        "## Question 2 (1 mark)\n",
        "\n",
        "Write a function that calculates the least squared error on the training data for a particular value of the parameters $w$ and $c$."
      ]
    },
    {
      "cell_type": "code",
      "metadata": {
        "id": "4WdOiIsZ2s6x",
        "colab": {
          "base_uri": "https://localhost:8080/"
        },
        "outputId": "6c071178-add4-4110-dec2-17f00157e349"
      },
      "source": [
        "def least_squares_error(x, y, w, c):\n",
        "    # Add code to calcuate the squared_error = E(w,c)..\n",
        "\n",
        "    x = (x*w) + c\n",
        "    squares = np.square(y-x)\n",
        "    squared_error = np.sum(squares)\n",
        "    # ************************************************************\n",
        "    \n",
        "    return squared_error\n",
        "\n",
        "try:\n",
        "    print('Squared error for w = 1.5, c = 0.5 is ', \n",
        "          least_squares_error(x_train, y_train, w=1.5, c=0.5))\n",
        "except Exception as err:\n",
        "    print('Error during least squares calculation:', err)"
      ],
      "execution_count": 20,
      "outputs": [
        {
          "output_type": "stream",
          "name": "stdout",
          "text": [
            "Squared error for w = 1.5, c = 0.5 is  450.52041703162615\n"
          ]
        }
      ]
    },
    {
      "cell_type": "markdown",
      "metadata": {
        "id": "xkEOIEAL2s6x"
      },
      "source": [
        "## Analytic Solution\n",
        "\n",
        "In the case of linear regression, we can find an analytic solution to this problem by finding stationary point of the objective function. We do this by evaluating the partial derivatives of the objective wrt each parameter in turn and setting them to zero. If we can then find a solution to these simultaneous equations, we have found an optimal setting for the parameters.\n",
        "\n",
        "For $w$ we have:\n",
        "\n",
        "\\begin{align}\n",
        "\\frac{\\partial E}{\\partial w} \n",
        "    &= \\frac{\\partial}{\\partial w}\\sum_{i=0}^{N-1} \\big(y_i - w x_i - c \\big)^2 \\\\\n",
        "    &= \\sum_{i=0}^{N-1} \\frac{\\partial}{\\partial w} \\big(y_i - w x_i - c \\big)^2 \\\\\n",
        "    &= \\sum_{i=0}^{N-1} 2 \\big(y_i - w x_i - c \\big) \\frac{\\partial}{\\partial w} \\big(y_i - w x_i - c \\big) \\\\\n",
        "    &= \\sum_{i=0}^{N-1} 2 \\big(y_i - w x_i - c \\big) \\big(- x_i \\big) \\\\\n",
        "    &= \\sum_{i=0}^{N-1} 2 x_i (w x_i + c - y_i) \\\\\n",
        "\\end{align}\n",
        "\n",
        "For $c$ we have:\n",
        "\n",
        "\\begin{align}\n",
        "\\frac{\\partial E}{\\partial c} \n",
        "    &= \\frac{\\partial}{\\partial c}\\sum_{i=0}^{N-1} \\big(y_i - w x_i - c \\big)^2 \\\\\n",
        "    &= \\sum_{i=0}^{N-1} \\frac{\\partial}{\\partial c} \\big(y_i - w x_i - c \\big)^2 \\\\\n",
        "    &= \\sum_{i=0}^{N-1} 2 \\big(y_i - w x_i - c \\big) \\frac{\\partial}{\\partial c} \\big(y_i - w x_i - c \\big) \\\\\n",
        "    &= \\sum_{i=0}^{N-1} 2 \\big(y_i - w x_i - c \\big) \\big(- 1 \\big) \\\\\n",
        "    &= \\sum_{i=0}^{N-1} 2 (w x_i + c - y_i) \\\\\n",
        "\\end{align}\n",
        "\n",
        "Now setting $\\frac{\\partial E}{\\partial w} = 0$:\n",
        "\n",
        "\\begin{align}\n",
        "\\Rightarrow \\sum_{i=0}^{N-1} x_i (w x_i + c - y_i) &= 0 \\\\\n",
        "w \\sum_{i=0}^{N-1} (x_i)^2 + c \\sum_{i=0}^{N-1} (x_i) - \\sum_{i=0}^{N-1} (x_i y_i) &= 0 \\\\\n",
        "\\Rightarrow A w + B c - C &= 0 \\qquad\\text{(1)}\n",
        "\\end{align}\n",
        "\n",
        "with $A = \\sum_{i=0}^{N-1} (x_i)^2$, $B = \\sum_{i=0}^{N-1} (x_i)$ and $C = \\sum_{i=0}^{N-1} (x_i y_i)$.\n",
        "\n",
        "Now setting $\\frac{\\partial E}{\\partial c} = 0$:\n",
        "\n",
        "\\begin{align}\n",
        "\\Rightarrow \\sum_{i=0}^{N-1} (w x_i + c - y_i) &= 0 \\\\\n",
        "w \\sum_{i=0}^{N-1} (x_i) + N c - \\sum_{i=0}^{N-1} (y_i) &= 0 \\\\\n",
        "\\Rightarrow B w + N c - D &= 0 \\qquad\\text{(2)}\n",
        "\\end{align}\n",
        "\n",
        "with $D = \\sum_{i=0}^{N-1} (y_i)$.\n",
        "\n",
        "Equations (1) and (2) can be combined to solve for the optimal values for $w$ and $c$! <p style=\"color:red\">**You will need to finish the final part of the maths to write the function required in question 3.**</p>"
      ]
    },
    {
      "cell_type": "markdown",
      "metadata": {
        "id": "AFohp_2L2s6y"
      },
      "source": [
        "## Question 3 (3 marks)\n",
        "\n",
        "Write a function using numpy that takes as input `x_train` and `y_train` and outputs the optimal $w$ and $c$ parameters for least squares linear regression.\n",
        "\n",
        "Confirm that your results are reasonable by plotting the resulting linear function on the training graph as well as the predicted values for the test set on a separate graph.\n",
        "\n",
        "- 2 marks for the correct solution for $w$ and $c$\n",
        "- 1 mark for the plots"
      ]
    },
    {
      "cell_type": "code",
      "metadata": {
        "id": "mCYkNRN22s6y",
        "colab": {
          "base_uri": "https://localhost:8080/",
          "height": 1000
        },
        "outputId": "b7e78965-dd3c-4ca8-f12c-8e94a8b27c04"
      },
      "source": [
        "def least_squares_analytic_solution(x, y):\n",
        "    # Add code to calcuate the optimal w and c using the \n",
        "    # equations above..\n",
        "    # ************************************************************\n",
        "    x_sq = np.square(x)\n",
        "    x_y_arr = x * y\n",
        "    x_sq_sum = np.sum(x_sq)\n",
        "    x_sum = np.sum(x)\n",
        "    x_y_sum = np.sum(x_y_arr)\n",
        "    y_sum = np.sum(y)\n",
        "    n = len(x)\n",
        "    w = (x_y_sum*n-x_sum*y_sum)/(x_sq_sum*n-x_sum*x_sum)\n",
        "    c = (x_sum*x_y_sum-x_sq_sum*y_sum)/(x_sum*x_sum-x_sq_sum*n)\n",
        "    \n",
        "    return w, c\n",
        "\n",
        "\n",
        "try:\n",
        "    w_opt, c_opt = least_squares_analytic_solution(x_train, y_train)\n",
        "    \n",
        "    print('Analytic solution:')\n",
        "    print('Analytic w = ', w_opt)\n",
        "    print('Analytic c = ', c_opt)\n",
        "    \n",
        "except Exception as err:\n",
        "    print('Error during least squares analytic solution:', err)\n",
        "\n",
        "    \n",
        "def plot_estimated_y_for_input_x(w, c):\n",
        "    # Add code to plot a line showing your solution \n",
        "    # for w and c..\n",
        "    # ************************************************************\n",
        "    x = np.linspace(-4,4,100)\n",
        "    y = (x * w) + c\n",
        "    plt.plot(x,y,c=\"r\")\n",
        "    \n",
        "    plt.show()\n",
        "    pass\n",
        "    \n",
        "    \n",
        "\n",
        "try:\n",
        "    plot_data(x_train, y_train)\n",
        "    plt.title('Analytic Linear Regression (Training Data)')\n",
        "    plot_estimated_y_for_input_x(w_opt, c_opt)\n",
        "    \n",
        "    print('Mean least squares error on TRAINING data = ',\n",
        "          least_squares_error(x_train, y_train, w_opt, c_opt) / x_train.shape[0])\n",
        "\n",
        "    plot_data(x_test, y_test)\n",
        "    plt.title('Analytic Linear Regression (Testing Data)')\n",
        "    plot_estimated_y_for_input_x(w_opt, c_opt)\n",
        "    \n",
        "    print('Mean least squares error on TEST data = ',\n",
        "          least_squares_error(x_test, y_test, w_opt, c_opt) / x_test.shape[0])\n",
        "    \n",
        "except Exception as err:\n",
        "    print('Error during plotting:', err)"
      ],
      "execution_count": 21,
      "outputs": [
        {
          "output_type": "stream",
          "name": "stdout",
          "text": [
            "Analytic solution:\n",
            "Analytic w =  0.6710446457297836\n",
            "Analytic c =  1.2195548195136355e-15\n"
          ]
        },
        {
          "output_type": "display_data",
          "data": {
            "image/png": "[encoded data removed]",
            "text/plain": [
              "<Figure size 720x576 with 1 Axes>"
            ]
          },
          "metadata": {
            "needs_background": "light"
          }
        },
        {
          "output_type": "stream",
          "name": "stdout",
          "text": [
            "Mean least squares error on TRAINING data =  0.5496990834373895\n"
          ]
        },
        {
          "output_type": "display_data",
          "data": {
            "image/png": "[encoded data removed]",
            "text/plain": [
              "<Figure size 720x576 with 1 Axes>"
            ]
          },
          "metadata": {
            "needs_background": "light"
          }
        },
        {
          "output_type": "stream",
          "name": "stdout",
          "text": [
            "Mean least squares error on TEST data =  0.477446115537434\n"
          ]
        }
      ]
    },
    {
      "cell_type": "markdown",
      "metadata": {
        "id": "NfKQVRU42s6z"
      },
      "source": [
        "## Tensorflow Optimisation\n",
        "\n",
        "**For help with this please refer to the separate tensorflow example that was worked through in class and is available on moodle as a separate jupyter notebook. Please load the example notebook and run through it yourself again before continuing with this task.**\n",
        "\n",
        "In the previous question we looked at an analytic solution to the least square problem. We now pretend that we could not solve the problem analytically. Although this is not true for this case, the additional of extensions to the linear regression model (for example to improve robustness, adding feature selection or handling non-linear data) can mean that it is no longer possible to find an analytic solution and numerical optimisation must be used."
      ]
    },
    {
      "cell_type": "markdown",
      "metadata": {
        "id": "11T9hutx2s6z"
      },
      "source": [
        "## Question 4 (2 marks)\n",
        "\n",
        "Add the tensorflow expressions to the following code to calculate the least squares error using tensorflow and check that it calculates the same value as the numpy version.\n"
      ]
    },
    {
      "cell_type": "code",
      "metadata": {
        "id": "U3aTegpb2s6z",
        "colab": {
          "base_uri": "https://localhost:8080/"
        },
        "outputId": "39c0edbf-61b2-4bdb-be4c-d791de789f44"
      },
      "source": [
        "tf.reset_default_graph()\n",
        "\n",
        "try:\n",
        "    # Constants to hold the training data..\n",
        "    t_x_train = tf.constant(x_train, name='x_train')\n",
        "    t_y_train = tf.constant(y_train, name='y_train')\n",
        "except Exception as err:\n",
        "    print('Error defining training data:', err)\n",
        "    \n",
        "# Initial values for optimisation..\n",
        "w_initial_guess = 1.5\n",
        "c_initial_guess = 0.5\n",
        "\n",
        "# Variables to hold w and c\n",
        "t_w = tf.Variable(w_initial_guess, \n",
        "                  dtype=tf.float64, \n",
        "                  name='w')\n",
        "t_c = tf.Variable(c_initial_guess, \n",
        "                  dtype=tf.float64, \n",
        "                  name='c')\n",
        "\n",
        "\n",
        "def calculate_tf_least_squares_error(t_x_train, t_y_train, t_w, t_c):\n",
        "    # Add your code here to calculate t_least_squares_error..\n",
        "    # ************************************************************\n",
        "    t_x_train = (t_x_train*t_w) + t_c\n",
        "    t_square = (t_y_train - t_x_train)**2\n",
        "    t_least_squares_error = tf.reduce_sum(t_square)\n",
        "    \n",
        "    return t_least_squares_error\n",
        "\n",
        "\n",
        "try:\n",
        "    tensorflow_result = calculate_tf_least_squares_error(t_x_train, t_y_train, t_w, t_c)\n",
        "except Exception as err:\n",
        "    print('Error declaration of calculate_tf_least_squares_error():', err)\n",
        "    \n",
        "try:\n",
        "    # Check with the result from your previous function..\n",
        "    numpy_result = least_squares_error(x_train, y_train, \n",
        "                                       w=w_initial_guess, \n",
        "                                       c=c_initial_guess)\n",
        "    print('Tensorflow least squares error = ', tensorflow_result.numpy())\n",
        "    print('numpy least squares error = ', numpy_result)    \n",
        "    \n",
        "    # This should pass if they are the same to nummerical precision!\n",
        "    assert(np.isclose(tensorflow_result, numpy_result))\n",
        "except Exception as err:\n",
        "    print('Error during optimisation with calculate_tf_least_squares_error():', err)"
      ],
      "execution_count": 22,
      "outputs": [
        {
          "output_type": "stream",
          "name": "stdout",
          "text": [
            "Tensorflow least squares error =  450.52041703162615\n",
            "numpy least squares error =  450.52041703162615\n"
          ]
        }
      ]
    },
    {
      "cell_type": "markdown",
      "metadata": {
        "id": "_85u5iQM2s6z"
      },
      "source": [
        "## Question 5 (2 marks)\n",
        "\n",
        "Check that the gradients from tensorflow are correct by writing numpy code to calculate the value of the derivatives from the analytic expressions (derived previously):\n",
        "\n",
        "\\begin{align}\n",
        "\\frac{\\partial E}{\\partial w} \n",
        "    &= \\sum_{i=0}^{N-1} 2 x_i (w x_i + c - y_i) \\\\\n",
        "\\end{align}\n",
        "\n",
        "\\begin{align}\n",
        "\\frac{\\partial E}{\\partial c} \n",
        "    &= \\sum_{i=0}^{N-1} 2 (w x_i + c - y_i) \\\\\n",
        "\\end{align}"
      ]
    },
    {
      "cell_type": "code",
      "metadata": {
        "id": "gIMkLbaF2s60",
        "colab": {
          "base_uri": "https://localhost:8080/"
        },
        "outputId": "a4d41411-4d60-42b2-a591-60c34542c2c2"
      },
      "source": [
        "tf.reset_default_graph()\n",
        "\n",
        "try:\n",
        "    # Constants to hold the training data..\n",
        "    t_x_train = tf.constant(x_train, name='x_train')\n",
        "    t_y_train = tf.constant(y_train, name='y_train')\n",
        "except Exception as err:\n",
        "    print('Error defining training data:', err)\n",
        "    \n",
        "# Initial values for optimisation..\n",
        "w_initial_guess = 1.5\n",
        "c_initial_guess = 0.5\n",
        "\n",
        "# Variables to hold w and c\n",
        "t_w = tf.Variable(w_initial_guess, \n",
        "                  dtype=tf.float64, \n",
        "                  name='w')\n",
        "t_c = tf.Variable(c_initial_guess, \n",
        "                  dtype=tf.float64, \n",
        "                  name='c')\n",
        "\n",
        "try:\n",
        "    with tf.GradientTape() as tape:\n",
        "        loss = calculate_tf_least_squares_error(t_x_train, t_y_train, t_w, t_c)\n",
        "\n",
        "    tf_grad_w,tf_grad_c = tape.gradient(loss, (t_w,t_c))\n",
        "\n",
        "    print('Tensorflow gradient wrt w = ', tf_grad_w.numpy())\n",
        "    print('Tensorflow gradient wrt c = ', tf_grad_c.numpy())\n",
        "    \n",
        "except Exception as err:\n",
        "    print('Error using calculate_tf_least_squares_error() to find gradients:', err)\n",
        "    \n",
        "\n",
        "def calc_gradients_for_least_squares(x, y, w, c):\n",
        "    # Add your code to evalute the partial derivatives here\n",
        "    # ************************************************************\n",
        "    # ...\n",
        "    temp_x = x\n",
        "    x = (x*w) + c\n",
        "    eq = x - y\n",
        "    grad_w = eq * temp_x * 2\n",
        "    grad_c = eq * 2\n",
        "    grad_w = np.sum(grad_w)\n",
        "    grad_c = np.sum(grad_c)\n",
        "    \n",
        "    return grad_w, grad_c\n",
        "\n",
        "try:\n",
        "    numpy_grad_w, numpy_grad_c = calc_gradients_for_least_squares(x_train, \n",
        "                                                                  y_train, \n",
        "                                                                  w_initial_guess, \n",
        "                                                                  c_initial_guess)\n",
        "\n",
        "    print('Analytic gradient wrt w = ', numpy_grad_w)\n",
        "    print('Analytic gradient wrt c = ', numpy_grad_c)\n",
        "\n",
        "    # This should pass if they are the same to nummerical precision!\n",
        "    assert(np.isclose(tf_grad_w, numpy_grad_w))\n",
        "    assert(np.isclose(tf_grad_c, numpy_grad_c))\n",
        "except Exception as err:\n",
        "    print('Error during calculation with calc_gradients_for_least_squares():', err)"
      ],
      "execution_count": 23,
      "outputs": [
        {
          "output_type": "stream",
          "name": "stdout",
          "text": [
            "Tensorflow gradient wrt w =  502.34694468775075\n",
            "Tensorflow gradient wrt c =  302.9999999999985\n",
            "Analytic gradient wrt w =  502.34694468775075\n",
            "Analytic gradient wrt c =  302.99999999999847\n"
          ]
        }
      ]
    },
    {
      "cell_type": "markdown",
      "metadata": {
        "id": "_RWIUy7x2s60"
      },
      "source": [
        "## Gradient Descent in Tensorflow\n",
        "\n",
        "If all has gone well, the gradients should be the same and you can use tensorflow to find the solution to the optimisation.\n",
        "\n",
        "**Run the following block of code to see the tensorflow optimisation running with your least square error function from above!**\n",
        "\n",
        "*Aside: Investigate what happens as you change the `learning_rate` parameter as well as the `num_iterations`. Can we guarantee that tensorflow will always return the same result as the analytic solution? What might be happening if not?*"
      ]
    },
    {
      "cell_type": "code",
      "metadata": {
        "id": "OsvhOlO72s60",
        "colab": {
          "base_uri": "https://localhost:8080/"
        },
        "outputId": "ac5e47eb-7965-424d-8d9d-21e35c77a59b"
      },
      "source": [
        "tf.reset_default_graph()\n",
        "\n",
        "try:\n",
        "    # Constants to hold the training data..\n",
        "    t_x_train = tf.constant(x_train, name='x_train')\n",
        "    t_y_train = tf.constant(y_train, name='y_train')\n",
        "except Exception as err:\n",
        "    print('Error defining training data:', err)\n",
        "    \n",
        "# Initial values for optimisation..\n",
        "w_initial_guess = 1.5\n",
        "c_initial_guess = 0.5\n",
        "\n",
        "# Variables to hold w and c\n",
        "t_w = tf.Variable(w_initial_guess, \n",
        "                  dtype=tf.float64, \n",
        "                  name='w')\n",
        "t_c = tf.Variable(c_initial_guess, \n",
        "                  dtype=tf.float64, \n",
        "                  name='c')\n",
        "\n",
        "try:\n",
        "    optimiser = tf.train.GradientDescentOptimizer(learning_rate=0.001) #0.001\n",
        "    \n",
        "    # Number of iterations to perform\n",
        "    num_iterations = 40\n",
        "   \n",
        "    # Run a number of iterations of gradient descent..\n",
        "    for iteration in range(num_iterations):\n",
        "        \n",
        "        with tf.GradientTape() as tape:\n",
        "            # We want to minimise the least squares error\n",
        "            loss = calculate_tf_least_squares_error(t_x_train, t_y_train, t_w, t_c)\n",
        "\n",
        "        tf_grad_w,tf_grad_c = tape.gradient(loss, (t_w,t_c))\n",
        "        # Create a gradient descent optimiser that uses a\n",
        "        # certain step size (learning_rate)..\n",
        "\n",
        "        optimiser.apply_gradients(zip((tf_grad_w,tf_grad_c),(t_w,t_c)))\n",
        "    \n",
        "        print('iter %4d, E(w,c) = %0.3f' % \n",
        "                  (iteration + 1, loss))\n",
        "\n",
        "    # Get the final results of the optimisation..\n",
        "    w_tf_opt = t_w.numpy()\n",
        "    c_tf_opt = t_c.numpy()\n",
        "\n",
        "    print('\\nAfter tensorflow optimisation:')\n",
        "    print('Tensorflow w = ', w_tf_opt)\n",
        "    print('Tensorflow c = ', c_tf_opt)\n",
        "    \n",
        "    print('\\nAnalytic solution:')\n",
        "    print('Analytic w = ', w_opt)\n",
        "    print('Analytic c = ', c_opt)\n",
        "    \n",
        "except Exception as err:\n",
        "    print('Error using calculate_tf_least_squares_error():', err)"
      ],
      "execution_count": 24,
      "outputs": [
        {
          "output_type": "stream",
          "name": "stdout",
          "text": [
            "iter    1, E(w,c) = 450.520\n",
            "iter    2, E(w,c) = 210.640\n",
            "iter    3, E(w,c) = 173.402\n",
            "iter    4, E(w,c) = 167.621\n",
            "iter    5, E(w,c) = 166.724\n",
            "iter    6, E(w,c) = 166.584\n",
            "iter    7, E(w,c) = 166.563\n",
            "iter    8, E(w,c) = 166.559\n",
            "iter    9, E(w,c) = 166.559\n",
            "iter   10, E(w,c) = 166.559\n",
            "iter   11, E(w,c) = 166.559\n",
            "iter   12, E(w,c) = 166.559\n",
            "iter   13, E(w,c) = 166.559\n",
            "iter   14, E(w,c) = 166.559\n",
            "iter   15, E(w,c) = 166.559\n",
            "iter   16, E(w,c) = 166.559\n",
            "iter   17, E(w,c) = 166.559\n",
            "iter   18, E(w,c) = 166.559\n",
            "iter   19, E(w,c) = 166.559\n",
            "iter   20, E(w,c) = 166.559\n",
            "iter   21, E(w,c) = 166.559\n",
            "iter   22, E(w,c) = 166.559\n",
            "iter   23, E(w,c) = 166.559\n",
            "iter   24, E(w,c) = 166.559\n",
            "iter   25, E(w,c) = 166.559\n",
            "iter   26, E(w,c) = 166.559\n",
            "iter   27, E(w,c) = 166.559\n",
            "iter   28, E(w,c) = 166.559\n",
            "iter   29, E(w,c) = 166.559\n",
            "iter   30, E(w,c) = 166.559\n",
            "iter   31, E(w,c) = 166.559\n",
            "iter   32, E(w,c) = 166.559\n",
            "iter   33, E(w,c) = 166.559\n",
            "iter   34, E(w,c) = 166.559\n",
            "iter   35, E(w,c) = 166.559\n",
            "iter   36, E(w,c) = 166.559\n",
            "iter   37, E(w,c) = 166.559\n",
            "iter   38, E(w,c) = 166.559\n",
            "iter   39, E(w,c) = 166.559\n",
            "iter   40, E(w,c) = 166.559\n",
            "\n",
            "After tensorflow optimisation:\n",
            "Tensorflow w =  0.6710446457297835\n",
            "Tensorflow c =  1.231948955188795e-15\n",
            "\n",
            "Analytic solution:\n",
            "Analytic w =  0.6710446457297836\n",
            "Analytic c =  1.2195548195136355e-15\n"
          ]
        }
      ]
    },
    {
      "cell_type": "markdown",
      "metadata": {
        "id": "eKSTMCii2s61"
      },
      "source": [
        "## Question 6 (5 marks)\n",
        "\n",
        "You are now going to implement your own version of gradient descent (the process that tensorflow is providing to perform optimisation). The good news is that you already have the numpy functions to calculate both the least squares error (`least_squares_error`) and the gradients wrt the parameters (`calc_gradients_for_least_squares`).\n",
        "\n",
        "Starting from the same initial values as tensorflow (`w_initial_guess`, `c_initial_guess`) write an iterative algorithm for gradient descent. At each iteration it should perform the following steps:\n",
        "\n",
        "- Evaluate and save the squared error for the current parameters\n",
        "- Calculate the gradients wrt w and c for the current parameters\n",
        "- Update the parameters for w and c my moving in the direction of the negative current proportional to the current step size\n",
        "\n",
        "**The code below should run with these three additions. Once they are working, move on to the following.**\n",
        "\n",
        "Under this algorithm, the squared error should decrease at each iteration. If it is not decreasing then either there is a bug in the code (!) or the step size is too large. Add a check that makes sure the squared error always decreases and if it fails to decrease, decrease the step size and run the iteration again.\n",
        "\n",
        "*Hint: you don't want to __accept__ a bad step - if a step is bad, reduce the step size and calculate the step again.*\n",
        "\n",
        "**Try running this code starting with `current_step_size = 0.1`.**\n",
        "\n",
        "You can improve your answer by checking to see if you should stop iterating. If the change in the squared error between successive iterations is very small then one of the following is true. Either the step size is too small (not changing the parameters sufficiently) or the values have converged to their optimal values. If you cannot find a step size that creates a deacrease in the squared error then you have probably converged and can stop performing iterations.\n",
        "\n",
        "*Hint: you can exit a `for` loop early with the `break` command.*\n",
        "\n",
        "**Try running this code starting with `num_iterations = 200`.**\n",
        "\n",
        "- 1 mark evaluating and tracking the squared error and gradients\n",
        "- 2 marks taking steps in the negative gradient direction proportional to the step size\n",
        "- 1 mark check for decreasing error and adjusting step size if necessary\n",
        "- 1 mark check for convergence and stop interating"
      ]
    },
    {
      "cell_type": "code",
      "metadata": {
        "id": "yVALvs6U2s61",
        "colab": {
          "base_uri": "https://localhost:8080/"
        },
        "outputId": "50d7c2d1-4e31-42e8-830a-d69eb14738d1"
      },
      "source": [
        "# Parameters...\n",
        "num_iterations = 200 #20\n",
        "converge_threshold = 1e-8\n",
        "\n",
        "\n",
        "\n",
        "# State...\n",
        "w_current = w_initial_guess\n",
        "c_current = c_initial_guess\n",
        "\n",
        "try:\n",
        "    # Keep track of the error..\n",
        "    E_current = least_squares_error(x_train, y_train, w_current, c_current)\n",
        "except Exception as err:\n",
        "    print('Error defining training data:', err)\n",
        "\n",
        "current_step_size = 0.1\n",
        "\n",
        "\n",
        "\n",
        "def run_iteration(x_train, y_train, w_current, c_current, E_current, \n",
        "                  current_step_size, converge_threshold):\n",
        "    # Set to True when converged..\n",
        "    converged = False\n",
        "\n",
        "    # Add code to evaluate the gradients..\n",
        "    # ************************************************************\n",
        "    grad_w, grad_c = calc_gradients_for_least_squares(x_train,y_train,w_current,c_current)\n",
        "\n",
        "\n",
        "    # Add code to take a step in the direction of the negative\n",
        "    # gradient proportional to the step size..\n",
        "    # ************************************************************\n",
        "    # ...\n",
        "    w_new = w_current-current_step_size*grad_w\n",
        "    c_new = c_current-current_step_size*grad_c \n",
        "\n",
        "\n",
        "    # Add code to evaluate and remember the squared error..\n",
        "    # ************************************************************\n",
        "    # ...\n",
        "    E_new = least_squares_error(x_train, y_train, w_new, c_new) \n",
        "\n",
        "\n",
        "    # Add code to check that error is decreasing and reduce step\n",
        "    # size if not..\n",
        "    # ************************************************************\n",
        "    # ...\n",
        "    while(E_new > E_current):\n",
        "        current_step_size *= 0.1\n",
        "        w_new = w_current - current_step_size * grad_w\n",
        "        c_new = c_current - current_step_size * grad_c\n",
        "        E_new = least_squares_error(x_train, y_train, w_new, c_new)\n",
        "\n",
        "\n",
        "    # Add code to check for convergence and terminate\n",
        "    # the loop if converged..\n",
        "    # ************************************************************\n",
        "    # ...\n",
        "    if(abs(E_current - E_new) <= converge_threshold):\n",
        "        converged = True\n",
        "            \n",
        "            \n",
        "    # Take the step...\n",
        "    w_current = w_new\n",
        "    c_current = c_new\n",
        "    E_current = E_new\n",
        "\n",
        "    return w_current, c_current, E_current, current_step_size, converged\n",
        "\n",
        "\n",
        "\n",
        "try:\n",
        "    for iteration in range(num_iterations):\n",
        "        w_current, c_current, E_current, current_step_size, converged = \\\n",
        "            run_iteration(x_train, y_train, w_current, c_current, E_current, \n",
        "                          current_step_size, converge_threshold)\n",
        "        \n",
        "        print('iteration %4d, E = %f, w = %f, c = %f' % \n",
        "              (iteration, E_current, w_current, c_current))\n",
        "        \n",
        "        if converged:\n",
        "            # Break out of iteration loop..\n",
        "            print('Converged!')\n",
        "            break\n",
        "        \n",
        "    print('\\nAfter gradient descent optimisation:')\n",
        "    print('Optimised w = ', w_current)\n",
        "    print('Optimised c = ', c_current)\n",
        "\n",
        "    print('\\nAnalytic solution:')\n",
        "    print('Analytic w = ', w_opt)\n",
        "    print('Analytic c = ', c_opt)\n",
        "    \n",
        "except Exception as err:\n",
        "        print('Error during run_iteration():', err)"
      ],
      "execution_count": 25,
      "outputs": [
        {
          "output_type": "stream",
          "name": "stdout",
          "text": [
            "iteration    0, E = 210.639884, w = 0.997653, c = 0.197000\n",
            "iteration    1, E = 173.401790, w = 0.799728, c = 0.077618\n",
            "iteration    2, E = 167.621097, w = 0.721746, c = 0.030581\n",
            "iteration    3, E = 166.723726, w = 0.691021, c = 0.012049\n",
            "iteration    4, E = 166.584421, w = 0.678915, c = 0.004747\n",
            "iteration    5, E = 166.562796, w = 0.674146, c = 0.001870\n",
            "iteration    6, E = 166.559439, w = 0.672266, c = 0.000737\n",
            "iteration    7, E = 166.558918, w = 0.671526, c = 0.000290\n",
            "iteration    8, E = 166.558837, w = 0.671234, c = 0.000114\n",
            "iteration    9, E = 166.558825, w = 0.671119, c = 0.000045\n",
            "iteration   10, E = 166.558823, w = 0.671074, c = 0.000018\n",
            "iteration   11, E = 166.558822, w = 0.671056, c = 0.000007\n",
            "iteration   12, E = 166.558822, w = 0.671049, c = 0.000003\n",
            "iteration   13, E = 166.558822, w = 0.671046, c = 0.000001\n",
            "Converged!\n",
            "\n",
            "After gradient descent optimisation:\n",
            "Optimised w =  0.6710464465827126\n",
            "Optimised c =  1.0862182877558175e-06\n",
            "\n",
            "Analytic solution:\n",
            "Analytic w =  0.6710446457297836\n",
            "Analytic c =  1.2195548195136355e-15\n"
          ]
        }
      ]
    }
  ]
}