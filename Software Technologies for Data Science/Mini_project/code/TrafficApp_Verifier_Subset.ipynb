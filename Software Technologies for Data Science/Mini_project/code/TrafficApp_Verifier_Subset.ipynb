{
 "cells": [
  {
   "cell_type": "markdown",
   "source": [
    "# Traffic Application Testing Code\n",
    "\n",
    "This notebook is designed to communicate with the Traffic Application server and perform a series of tests. It is necessary to restart the server for each test to ensure that the test did not fail because of the state the server was in due to the previous tests. Each time you restart the server ensure that it begins with a database in a known state."
   ],
   "metadata": {}
  },
  {
   "cell_type": "code",
   "execution_count": 2,
   "source": [
    "# The modules needed\n",
    "import random\n",
    "import requests\n",
    "import shutil\n",
    "import json\n",
    "import subprocess\n",
    "import os\n",
    "from pprint import pprint"
   ],
   "outputs": [],
   "metadata": {
    "collapsed": true
   }
  },
  {
   "cell_type": "code",
   "execution_count": 604,
   "source": [
    "# The port the server should run on\n",
    "\n",
    "server_port = '8081'"
   ],
   "outputs": [],
   "metadata": {
    "collapsed": true
   }
  },
  {
   "cell_type": "code",
   "execution_count": 605,
   "source": [
    "# The core code\n",
    "\n",
    "def request2server(url,cookies):\n",
    "    ucookie = cookies[0]\n",
    "    mcookie = cookies[1]\n",
    "    try:\n",
    "        r = requests.get(url,cookies=dict(u_cookie=cookies[0],m_cookie=cookies[1]),timeout=15)\n",
    "        for c in r.cookies:\n",
    "            if (c.name == 'u_cookie'):\n",
    "                ucookie = c.value\n",
    "            if (c.name == 'm_cookie'):\n",
    "                mcookie = c.value\n",
    "        act=json.loads(r.text)\n",
    "        return [[ucookie,mcookie],act]\n",
    "    except :\n",
    "        print(\"Invalid login\")\n",
    "        return [[ucookie,mcookie],[]]\n",
    "    \n",
    "def requestfilefromserver(url,cookies):\n",
    "    ucookie = cookies[0]\n",
    "    mcookie = cookies[1]\n",
    "    try:\n",
    "        r = requests.get(url,cookies=dict(u_cookie=cookies[0],m_cookie=cookies[1]),timeout=15)\n",
    "        for c in r.cookies:\n",
    "            if (c.name == 'u_cookie'):\n",
    "                ucookie = c.value\n",
    "            if (c.name == 'm_cookie'):\n",
    "                mcookie = c.value\n",
    "        return [[ucookie,mcookie],r.text]\n",
    "    except :\n",
    "        print(\"Invalid login\")\n",
    "        return [[ucookie,mcookie],[]]\n",
    "    \n",
    "def find_redirect(act):\n",
    "    for a in act:\n",
    "        if 'type' in a:\n",
    "            if a['type'] == 'redirect':\n",
    "                if 'where' in a:\n",
    "                    return a['where']\n",
    "    return None\n",
    "\n",
    "def find_refill(act,where):\n",
    "    for a in act:\n",
    "        if 'type' in a:\n",
    "            if a['type'] == 'refill':\n",
    "                if 'where' in a:\n",
    "                    if a['where'] == where:\n",
    "                        return a['what']\n",
    "    return None\n",
    "\n",
    "def randparam():\n",
    "    return \"&randn=\"+str(random.randrange(10000,99999))\n",
    "\n",
    "def do_login(cookies,user,pasw):\n",
    "    return request2server(\"http://localhost:\"+server_port+\"/action?command=login&usernameinput=\"+user+\"&passwordinput=\"+pasw+randparam(),cookies)\n",
    "\n",
    "def do_add(cookies,loc,occupancy,vtype):\n",
    "    return request2server(\"http://localhost:\"+server_port+\"/action?command=add&locationinput=\"+loc+\"&occupancyinput=\"+str(occupancy)+\"&typeinput=\"+vtype+randparam(),cookies)\n",
    "\n",
    "def do_undo(cookies,loc,occupancy,vtype):\n",
    "    return request2server(\"http://localhost:\"+server_port+\"/action?command=undo&locationinput=\"+loc+\"&occupancyinput=\"+str(occupancy)+\"&typeinput=\"+vtype+randparam(),cookies)\n",
    "\n",
    "def do_summary(cookies):\n",
    "    return request2server(\"http://localhost:\"+server_port+\"/action?command=summary\"+randparam(),cookies)\n",
    "\n",
    "def do_logout(cookies):\n",
    "    return request2server(\"http://localhost:\"+server_port+\"/action?command=logout\"+randparam(),cookies)\n",
    "\n",
    "def do_file_fetch(cookies,file):\n",
    "    return requestfilefromserver(\"http://localhost:\"+server_port+\"/\"+file,cookies)"
   ],
   "outputs": [],
   "metadata": {
    "collapsed": true
   }
  },
  {
   "cell_type": "code",
   "execution_count": 606,
   "source": [
    "def checked_login(test,cookies,user,pasw):\n",
    "    [cookies,act] = do_login(cookies, user,pasw)\n",
    "    where = find_redirect(act)\n",
    "    if(where == None):\n",
    "        print(\"Test \"+str(test)+\" Failed - Expected redirect during login.\")\n",
    "        return ['',act,False]\n",
    "    if (where != '/page.html'):\n",
    "        print(\"Test \"+str(test)+\" Failed - Expected /page.html got {\"+where+\"}\")\n",
    "        return [cookies,act,False]\n",
    "    return [cookies,act,True]\n",
    "\n",
    "def checked_logout(test,cookies):\n",
    "    [cookies,act] = do_logout(cookies)     \n",
    "    where = find_redirect(act)\n",
    "    \n",
    "    if (where != '/index.html'):\n",
    "        print(\"Test \"+str(test)+\" Failed - Expected /index.html got {\"+where+\"}\")\n",
    "        return [cookies,act,False] \n",
    "    return [cookies,act,True]"
   ],
   "outputs": [],
   "metadata": {
    "collapsed": true
   }
  },
  {
   "cell_type": "code",
   "execution_count": 607,
   "source": [
    "# Test 1 - Simple login\n",
    "def test1():\n",
    "    try:\n",
    "        cookies = ['','']\n",
    "        [cookies,act,flag] = checked_login(1,cookies,\"test1\",\"password1\")\n",
    "        where = find_redirect(act)\n",
    "        if flag!=True:\n",
    "            return 0\n",
    "\n",
    "        [cookies,act,flag] = checked_logout(1,cookies)        \n",
    "        where = find_redirect(act) \n",
    "        if flag!=True:\n",
    "            return 0\n",
    "        \n",
    "        print(\"Test 1 Passed\")\n",
    "        return 1\n",
    "    except:\n",
    "        print(\"Test 1 Failed - Exception Caused.\")\n",
    "        return 0\n"
   ],
   "outputs": [],
   "metadata": {
    "collapsed": true
   }
  },
  {
   "cell_type": "code",
   "execution_count": 608,
   "source": [
    "# Test 2 - Bad login\n",
    "def test2():\n",
    "    try:\n",
    "        cookies = ['','']\n",
    "        [cookies,act2] = do_login(cookies,\"test1\",\"passwor1\")\n",
    "        where = find_redirect(act2)\n",
    "    \n",
    "        if (where != None):\n",
    "            print(\"Test 2 Failed - Unexpected redirect.\")\n",
    "            return 0\n",
    "        \n",
    "        message = find_refill(act2,'message')\n",
    "    \n",
    "        if (message == None):\n",
    "            print(\"Test 2 Failed - No failure message present\")\n",
    "            return 0\n",
    "        \n",
    "        [cookies,act,flag] = checked_logout(2,cookies)        \n",
    "        where = find_redirect(act) \n",
    "        if flag!=True:\n",
    "            return 0\n",
    "        \n",
    "        print(\"Test 2 Passed\")\n",
    "        return 1\n",
    "    except Exception as e:\n",
    "        print(e)\n",
    "        print(\"Test 2 Failed - Exception Caused.\")\n",
    "        return 0        "
   ],
   "outputs": [],
   "metadata": {
    "collapsed": true
   }
  },
  {
   "cell_type": "code",
   "execution_count": 609,
   "source": [
    "# Test 4 - Simple add\n",
    "def test4():\n",
    "    try:\n",
    "        cookies = ['','']\n",
    "        [cookies,act,flag] = checked_login(4,cookies,\"test1\",\"password1\")\n",
    "        where = find_redirect(act)\n",
    "        if flag!=True:\n",
    "            return 0\n",
    "        \n",
    "        [cookies,act] = do_add(cookies,\"road\",1,\"car\")\n",
    "      \n",
    "        where = find_redirect(act)\n",
    "    \n",
    "        if (where != None):\n",
    "            print(\"Test 4 Failed - Unexpected redirect.(2)\")\n",
    "            return 0\n",
    "        \n",
    "        message = find_refill(act,'message')\n",
    "    \n",
    "        if (message == None):\n",
    "            print(\"Test 4 Failed - No acknowledge message present\")\n",
    "            return 0\n",
    "        \n",
    "        total = find_refill(act,'total')\n",
    "    \n",
    "        if (total == None):\n",
    "            print(\"Test 4 Failed - No total message present\")\n",
    "            return 0\n",
    "        \n",
    "        if (total != \"1\"):\n",
    "            print(\"Test 4 Failed - Total not expected value\")\n",
    "            return 0\n",
    "         \n",
    "        [cookies,act,flag] = checked_logout(4,cookies)        \n",
    "        where = find_redirect(act) \n",
    "        if flag!=True:\n",
    "            return 0\n",
    "        \n",
    "        print(\"Test 4 Passed\")\n",
    "        return 1\n",
    "    except:\n",
    "        print(\"Test 4 Failed - Exception Caused.\")\n",
    "        return 0"
   ],
   "outputs": [],
   "metadata": {
    "collapsed": true
   }
  },
  {
   "cell_type": "code",
   "execution_count": 610,
   "source": [
    "# Test 8 - Unknown vehicle type, step 1\n",
    "def test8():\n",
    "    try:\n",
    "        cookies = ['','']\n",
    "        [cookies,act,flag] = checked_login(8,cookies,\"test1\",\"password1\")\n",
    "        where = find_redirect(act)\n",
    "        if flag!=True:\n",
    "            return 0\n",
    "    \n",
    "        [cookies_x,act] = do_add(cookies,\"road\",1,\"caravan\")\n",
    "        where = find_redirect(act)\n",
    "    \n",
    "        if (where != None):\n",
    "            print(\"Test 8 Failed - Unexpected redirect.(2)\")\n",
    "            return 0\n",
    "        \n",
    "        message = find_refill(act,'message')\n",
    "    \n",
    "        if (message == None):\n",
    "            print(\"Test 8 Failed - No acknowledge message present(3)\")\n",
    "            return 0\n",
    "        \n",
    "        total = find_refill(act,'total')\n",
    "    \n",
    "        if (total != None):\n",
    "            if (total != \"0\"):\n",
    "                print(\"Test 8 Failed - Total not expected value, should be zero.\")\n",
    "                return 0\n",
    "        \n",
    "        [cookies,act,flag] = checked_logout(8,cookies)        \n",
    "        where = find_redirect(act) \n",
    "        if flag!=True:\n",
    "            return 0\n",
    "\n",
    "        print(\"Test 8 Passed\")\n",
    "        return 1\n",
    "    except:\n",
    "        print(\"Test 8 Failed - Exception Caused.\")\n",
    "        return 0"
   ],
   "outputs": [],
   "metadata": {
    "collapsed": true
   }
  },
  {
   "cell_type": "code",
   "execution_count": 611,
   "source": [
    "# Test 10 - Simple undo\n",
    "def test10():\n",
    "    try:\n",
    "        cookies = ['','']\n",
    "        [cookies,act,flag] = checked_login(10,cookies,\"test1\",\"password1\")\n",
    "        where = find_redirect(act)\n",
    "        if flag!=True:\n",
    "            return 0\n",
    "    \n",
    "            \n",
    "        [cookies_x,act] = do_add(cookies,\"road\",1,\"car\")\n",
    "      \n",
    "        where = find_redirect(act)\n",
    "    \n",
    "        if (where != None):\n",
    "            print(\"Test 10 Failed - Unexpected redirect.(2)\")\n",
    "            return 0\n",
    "        \n",
    "        total = find_refill(act,'total')\n",
    "        \n",
    "        if (total != None):\n",
    "            if (total != \"1\"):\n",
    "                print(\"Test 10 Failed - Total not expected value, should be 1. Was {\"+total+\"}\")\n",
    "                return 0\n",
    "        \n",
    "        [cookies_x,act] = do_undo(cookies,\"road\",1,\"car\")\n",
    "      \n",
    "        where = find_redirect(act)\n",
    "    \n",
    "        if (where != None):\n",
    "            print(\"Test 10 Failed - Unexpected redirect.(2)\")\n",
    "            return 0\n",
    "        \n",
    "        total = find_refill(act,'total')\n",
    "        \n",
    "        if (total == None):\n",
    "            print(\"Test 10 Failed - Total not found.\")\n",
    "            return 0\n",
    "    \n",
    "        if (total != \"0\"):\n",
    "            print(\"Test 10 Failed - Total not expected value, should be 0. Was {\"+total+\"}\")\n",
    "            return 0\n",
    "        \n",
    "        [cookies,act,flag] = checked_logout(10,cookies)        \n",
    "        where = find_redirect(act) \n",
    "        if flag!=True:\n",
    "            return 0\n",
    "        \n",
    "        print(\"Test 10 Passed\")\n",
    "        return 1\n",
    "    except:\n",
    "        print(\"Test 10 Failed - Exception Caused.\")\n",
    "        return 0"
   ],
   "outputs": [],
   "metadata": {
    "collapsed": true
   }
  },
  {
   "cell_type": "code",
   "execution_count": 612,
   "source": [
    "# Test 23 - two users sessions should not overlap totals\n",
    "def test23():\n",
    "    try:\n",
    "        cookies1 = ['','']\n",
    "        [cookies1,act1,flag1] = checked_login(23,cookies1,\"test1\",\"password1\")\n",
    "        if flag1!=True:\n",
    "            return 0\n",
    "        \n",
    "        cookies2 = ['','']\n",
    "        [cookies2,act2,flag2] = checked_login(23,cookies2,\"test2\",\"password2\")\n",
    "        if flag2!=True:\n",
    "            return 0\n",
    "        \n",
    "        [cookies1,act] = do_add(cookies1,\"road\",1,\"car\")\n",
    "        \n",
    "        where = find_redirect(act)\n",
    "    \n",
    "        if (where != None):\n",
    "            print(\"Test 23 Failed - Unexpected redirect.\")\n",
    "            return 0\n",
    "        \n",
    "        message = find_refill(act,'message')\n",
    "    \n",
    "        if (message == None):\n",
    "            print(\"Test 23 Failed - No acknowledge message present\")\n",
    "            return 0\n",
    "        \n",
    "        total = find_refill(act,'total')\n",
    "    \n",
    "        if (total == None):\n",
    "            print(\"Test 23 Failed - No total message present\")\n",
    "            return 0\n",
    "        \n",
    "        if (total != \"1\"):\n",
    "            print(\"Test 23 Failed - Total not expected value 1 was \"+total)\n",
    "            return 0\n",
    "\n",
    "        [cookies2,act] = do_add(cookies2,\"road\",1,\"bus\")\n",
    "            \n",
    "        where = find_redirect(act)\n",
    "    \n",
    "        if (where != None):\n",
    "            print(\"Test 23 Failed - Unexpected redirect.\")\n",
    "            return 0\n",
    "        \n",
    "        message = find_refill(act,'message')\n",
    "    \n",
    "        if (message == None):\n",
    "            print(\"Test 23 Failed - No acknowledge message present\")\n",
    "            return 0\n",
    "        \n",
    "        total = find_refill(act,'total')\n",
    "    \n",
    "        if (total == None):\n",
    "            print(\"Test 23 Failed - No total message present\")\n",
    "            return 0\n",
    "        \n",
    "        if (total != \"1\"):\n",
    "            print(\"Test 23 Failed - Total not expected value 1 was \"+total)\n",
    "            return 0\n",
    "        \n",
    "        [cookies2,act] = do_add(cookies2,\"road\",1,\"bicycle\")\n",
    "            \n",
    "        where = find_redirect(act)\n",
    "    \n",
    "        if (where != None):\n",
    "            print(\"Test 23 Failed - Unexpected redirect.\")\n",
    "            return 0\n",
    "        \n",
    "        message = find_refill(act,'message')\n",
    "    \n",
    "        if (message == None):\n",
    "            print(\"Test 23 Failed - No acknowledge message present\")\n",
    "            return 0\n",
    "        \n",
    "        total = find_refill(act,'total')\n",
    "    \n",
    "        if (total == None):\n",
    "            print(\"Test 23 Failed - No total message present\")\n",
    "            return 0\n",
    "        \n",
    "        if (total != \"2\"):\n",
    "            print(\"Test 23 Failed - Total not expected value 2 was \"+total)\n",
    "            return 0\n",
    "\n",
    "        [cookies1,act1,flag1] = checked_logout(23,cookies1)        \n",
    "        where1 = find_redirect(act1) \n",
    "        if flag1!=True:\n",
    "            return 0\n",
    "        \n",
    "        [cookies2,act2,flag2] = checked_logout(23,cookies2)        \n",
    "        where1 = find_redirect(act1) \n",
    "        if flag1!=True:\n",
    "            return 0\n",
    "\n",
    "        print(\"Test 23 Passed\")\n",
    "        return 1\n",
    "    except:\n",
    "        print(\"Test 23 Failed - Exception Caused.\")\n",
    "        return 0"
   ],
   "outputs": [],
   "metadata": {
    "collapsed": true
   }
  },
  {
   "cell_type": "code",
   "execution_count": 613,
   "source": [
    "# Test 25 - Fetch the hours summary - not a real test, just shows the process\n",
    "def test25():\n",
    "    try:\n",
    "        cookies = ['','']\n",
    "        [cookies,act,flag] = checked_login(25,cookies,\"test1\",\"password1\")\n",
    "        where = find_redirect(act)\n",
    "        if flag!=True:\n",
    "            return 0\n",
    "        \n",
    "        [cookies,content] = do_file_fetch(cookies,\"/statistics/hours.csv\")\n",
    "        \n",
    "        print(content)\n",
    "        \n",
    "        [cookies,act,flag] = checked_logout(25,cookies)        \n",
    "        where = find_redirect(act) \n",
    "        if flag!=True:\n",
    "            return 0\n",
    "\n",
    "        print(\"Test 25 Passed\")\n",
    "        return 1\n",
    "    except:\n",
    "        print(\"Test 25 Failed - Exception Caused.\")\n",
    "        return 0"
   ],
   "outputs": [],
   "metadata": {
    "collapsed": true
   }
  },
  {
   "cell_type": "code",
   "execution_count": 614,
   "source": [
    "# Test 8 - Unknown occ type, step 1\n",
    "def test100():\n",
    "    try:\n",
    "        cookies = ['','']\n",
    "        [cookies,act,flag] = checked_login(8,cookies,\"test1\",\"password1\")\n",
    "        where = find_redirect(act)\n",
    "        if flag!=True:\n",
    "            return 0\n",
    "    \n",
    "        [cookies_x,act] = do_add(cookies,\"road\",8,\"bus\")\n",
    "        where = find_redirect(act)\n",
    "    \n",
    "        if (where != None):\n",
    "            print(\"Test 100 Failed - Unexpected redirect.(2)\")\n",
    "            return 0\n",
    "        \n",
    "        message = find_refill(act,'message')\n",
    "    \n",
    "        if (message == None):\n",
    "            print(\"Test 100 Failed - No acknowledge message present(3)\")\n",
    "            return 0\n",
    "        \n",
    "        total = find_refill(act,'total')\n",
    "    \n",
    "        if (total != None):\n",
    "            if (total != \"0\"):\n",
    "                print(\"Test 100 Failed - Total not expected value, should be zero.\")\n",
    "                return 0\n",
    "        \n",
    "        [cookies,act,flag] = checked_logout(8,cookies)        \n",
    "        where = find_redirect(act) \n",
    "        if flag!=True:\n",
    "            return 0\n",
    "\n",
    "        print(\"Test 8 Passed\")\n",
    "        return 1\n",
    "    except:\n",
    "        print(\"Test 8 Failed - Exception Caused.\")\n",
    "        return 0"
   ],
   "outputs": [],
   "metadata": {}
  },
  {
   "cell_type": "code",
   "execution_count": 615,
   "source": [
    "# Test 101 - Fetch the hours summary - while logged out\n",
    "def test101():\n",
    "    try:\n",
    "        cookies = ['','']\n",
    "        [cookies,act,flag] = checked_login(101,cookies,\"test1\",\"password1\")\n",
    "        where = find_redirect(act)\n",
    "        if flag!=True:\n",
    "            return 0\n",
    "        \n",
    "        \n",
    "        [cookies,act,flag] = checked_logout(101,cookies)        \n",
    "        where = find_redirect(act) \n",
    "        if flag!=True:\n",
    "            return 0\n",
    "\n",
    "        [cookies,content] = do_file_fetch(cookies,\"/statistics/hours.csv\")\n",
    "        \n",
    "        print(content)\n",
    "        print(\"Test 101 Passed\")\n",
    "        return 1\n",
    "    except:\n",
    "        print(\"Test 101 Failed - Exception Caused.\")\n",
    "        return 0"
   ],
   "outputs": [],
   "metadata": {}
  },
  {
   "cell_type": "code",
   "execution_count": 616,
   "source": [
    "# Test 102 - Simple undo\n",
    "def test102():\n",
    "    try:\n",
    "        cookies = ['','']\n",
    "        [cookies,act,flag] = checked_login(102,cookies,\"test1\",\"password1\")\n",
    "        where = find_redirect(act)\n",
    "        if flag!=True:\n",
    "            return 0\n",
    "    \n",
    "            \n",
    "        [cookies_x,act] = do_add(cookies,\"road\",1,\"car\")\n",
    "      \n",
    "        where = find_redirect(act)\n",
    "    \n",
    "        if (where != None):\n",
    "            print(\"Test 10 Failed - Unexpected redirect.(2)\")\n",
    "            return 0\n",
    "        \n",
    "        total = find_refill(act,'total')\n",
    "        \n",
    "        if (total != None):\n",
    "            if (total != \"1\"):\n",
    "                print(\"Test 10 Failed - Total not expected value, should be 1. Was {\"+total+\"}\")\n",
    "                return 0\n",
    "        \n",
    "        [cookies_x,act] = do_undo(cookies,\"road\",8,\"car\")\n",
    "      \n",
    "        where = find_redirect(act)\n",
    "    \n",
    "        if (where != None):\n",
    "            print(\"Test 10 Failed - Unexpected redirect.(2)\")\n",
    "            return 0\n",
    "        \n",
    "        total = find_refill(act,'total')\n",
    "        \n",
    "        if (total == None):\n",
    "            print(\"Test 10 Failed - Total not found.\")\n",
    "            return 0\n",
    "    \n",
    "        if (total != \"0\"):\n",
    "            print(\"Test 10 Failed - Total not expected value, should be 0.Was  {\"+total+\"}\")\n",
    "            return 0\n",
    "        \n",
    "        [cookies,act,flag] = checked_logout(102,cookies)        \n",
    "        where = find_redirect(act) \n",
    "        if flag!=True:\n",
    "            return 0\n",
    "        \n",
    "        print(\"Test 10 Passed\")\n",
    "        return 1\n",
    "    except:\n",
    "        print(\"Test 10 Failed - Exception Caused.\")\n",
    "        return 0"
   ],
   "outputs": [],
   "metadata": {}
  },
  {
   "cell_type": "code",
   "execution_count": 4,
   "source": [
    "tests = [('Test 1', test1, 'db/clean.db'),('Test 2', test2, 'db/clean.db'),\n",
    "         ('Test 4', test4, 'db/clean.db'),('Test 8', test8, 'db/clean.db'),\n",
    "         ('Test 10', test10, 'db/clean.db'),('Test 23', test23, 'db/clean.db'),\n",
    "         ('Test 25', test25, 'db/clean.db')]\n",
    "\n",
    "mark_total = 0\n",
    "# (os.path.expanduser('~/Users/nikhiljohn/opt/anaconda3/python.exe')+' server.py '+server_port,stdout=subprocess.DEVNULL)\n",
    "for test in tests:\n",
    "    print(\"Running\"+test[0])\n",
    "    try:\n",
    "        shutil.copy(test[2],'traffic.db')\n",
    "        sp = subprocess.Popen('~/Users/nikhiljohn/opt/anaconda3/python.exe server.py '+server_port, shell=True,stdout=subprocess.DEVNULL)\n",
    "        mark_total += test[1]()\n",
    "        print(\"Test Finished\")\n",
    "        sp.terminate()\n",
    "    except Exception as e:\n",
    "        print(e)\n",
    "        try:\n",
    "            sp.terminate()\n",
    "        except:\n",
    "            pass\n",
    "        print(\"Test Process Generated Exception\")\n",
    "        \n",
    "print(\"Marks = {:d}/7\".format(mark_total))\n"
   ],
   "outputs": [
    {
     "output_type": "error",
     "ename": "NameError",
     "evalue": "name 'test1' is not defined",
     "traceback": [
      "\u001b[0;31m---------------------------------------------------------------------------\u001b[0m",
      "\u001b[0;31mNameError\u001b[0m                                 Traceback (most recent call last)",
      "\u001b[0;32m<ipython-input-4-5ef9082d9bf6>\u001b[0m in \u001b[0;36m<module>\u001b[0;34m\u001b[0m\n\u001b[0;32m----> 1\u001b[0;31m tests = [('Test 1', test1, 'db/clean.db'),('Test 2', test2, 'db/clean.db'),\n\u001b[0m\u001b[1;32m      2\u001b[0m          \u001b[0;34m(\u001b[0m\u001b[0;34m'Test 4'\u001b[0m\u001b[0;34m,\u001b[0m \u001b[0mtest4\u001b[0m\u001b[0;34m,\u001b[0m \u001b[0;34m'db/clean.db'\u001b[0m\u001b[0;34m)\u001b[0m\u001b[0;34m,\u001b[0m\u001b[0;34m(\u001b[0m\u001b[0;34m'Test 8'\u001b[0m\u001b[0;34m,\u001b[0m \u001b[0mtest8\u001b[0m\u001b[0;34m,\u001b[0m \u001b[0;34m'db/clean.db'\u001b[0m\u001b[0;34m)\u001b[0m\u001b[0;34m,\u001b[0m\u001b[0;34m\u001b[0m\u001b[0;34m\u001b[0m\u001b[0m\n\u001b[1;32m      3\u001b[0m          \u001b[0;34m(\u001b[0m\u001b[0;34m'Test 10'\u001b[0m\u001b[0;34m,\u001b[0m \u001b[0mtest10\u001b[0m\u001b[0;34m,\u001b[0m \u001b[0;34m'db/clean.db'\u001b[0m\u001b[0;34m)\u001b[0m\u001b[0;34m,\u001b[0m\u001b[0;34m(\u001b[0m\u001b[0;34m'Test 23'\u001b[0m\u001b[0;34m,\u001b[0m \u001b[0mtest23\u001b[0m\u001b[0;34m,\u001b[0m \u001b[0;34m'db/clean.db'\u001b[0m\u001b[0;34m)\u001b[0m\u001b[0;34m,\u001b[0m\u001b[0;34m\u001b[0m\u001b[0;34m\u001b[0m\u001b[0m\n\u001b[1;32m      4\u001b[0m          ('Test 25', test25, 'db/clean.db')]\n\u001b[1;32m      5\u001b[0m \u001b[0;34m\u001b[0m\u001b[0m\n",
      "\u001b[0;31mNameError\u001b[0m: name 'test1' is not defined"
     ]
    }
   ],
   "metadata": {}
  },
  {
   "cell_type": "code",
   "execution_count": 7,
   "source": [
    "shutil.copy('db/clean.db','traffic.db')"
   ],
   "outputs": [
    {
     "output_type": "execute_result",
     "data": {
      "text/plain": [
       "'traffic.db'"
      ]
     },
     "metadata": {},
     "execution_count": 7
    }
   ],
   "metadata": {}
  },
  {
   "cell_type": "code",
   "execution_count": 619,
   "source": [
    "test100()"
   ],
   "outputs": [
    {
     "output_type": "stream",
     "name": "stdout",
     "text": [
      "Test 8 Passed\n"
     ]
    },
    {
     "output_type": "execute_result",
     "data": {
      "text/plain": [
       "1"
      ]
     },
     "metadata": {},
     "execution_count": 619
    }
   ],
   "metadata": {}
  },
  {
   "cell_type": "code",
   "execution_count": 620,
   "source": [
    "test101()"
   ],
   "outputs": [
    {
     "output_type": "stream",
     "name": "stdout",
     "text": [
      "\n",
      "Test 101 Passed\n"
     ]
    },
    {
     "output_type": "execute_result",
     "data": {
      "text/plain": [
       "1"
      ]
     },
     "metadata": {},
     "execution_count": 620
    }
   ],
   "metadata": {}
  },
  {
   "cell_type": "code",
   "execution_count": 621,
   "source": [
    "test102()"
   ],
   "outputs": [
    {
     "output_type": "stream",
     "name": "stdout",
     "text": [
      "Test 10 Failed - Total not expected value, should be 0.Was  {1}\n"
     ]
    },
    {
     "output_type": "execute_result",
     "data": {
      "text/plain": [
       "0"
      ]
     },
     "metadata": {},
     "execution_count": 621
    }
   ],
   "metadata": {}
  }
 ],
 "metadata": {
  "kernelspec": {
   "name": "python3",
   "display_name": "Python 3.8.8 64-bit ('base': conda)"
  },
  "language_info": {
   "codemirror_mode": {
    "name": "ipython",
    "version": 3
   },
   "file_extension": ".py",
   "mimetype": "text/x-python",
   "name": "python",
   "nbconvert_exporter": "python",
   "pygments_lexer": "ipython3",
   "version": "3.8.8"
  },
  "interpreter": {
   "hash": "2ef5e2068beee31d1759518101e655ed040c57bc094ab0c7b9b1be86d650f4fa"
  }
 },
 "nbformat": 4,
 "nbformat_minor": 2
}